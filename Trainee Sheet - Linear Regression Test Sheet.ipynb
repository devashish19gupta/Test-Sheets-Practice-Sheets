{
 "cells": [
  {
   "cell_type": "markdown",
   "id": "013346cf",
   "metadata": {},
   "source": [
    "# Test Sheet: Predicting Employee Salaries Based on Experience and Education Using Linear Regression"
   ]
  },
  {
   "cell_type": "markdown",
   "id": "aa7816c8",
   "metadata": {},
   "source": [
    "- Objective\n",
    "In this assignment, you will build and evaluate a Linear Regression model to predict employee salaries based on their years of experience and education level. You will use Python's Scikit-Learn library to train the model, assess its performance, and make salary predictions.<br><br>\n",
    "\n",
    "- Scenario\n",
    "A company wants to determine an employee's salary based on their years of experience and education level. The company has historical data on employees’ salaries, experience, and education. Your task is to create a model that accurately predicts employee salaries using this information.<br><br>\n",
    "\n",
    "- Features (Inputs):\n",
    "    - Years of Experience: (e.g., 1, 5, 10, etc.)<br>\n",
    "    - Education Level:<br>\n",
    "        - 1 for Bachelor's<br>\n",
    "        - 2 for Master's<br>\n",
    "        - 3 for PhD<br>\n",
    "- Target (Output):<br>\n",
    "Salary: (continuous value in dollars)<br>\n"
   ]
  },
  {
   "cell_type": "markdown",
   "id": "27b9a1c4",
   "metadata": {},
   "source": [
    "## Instructions\n",
    "### 1. Generate or Load Data:\n",
    "- Generate a synthetic dataset with the following columns:\n",
    "    - experience: Years of experience (integer values, e.g., 1 to 20).\n",
    "    - education_level: Education level (1 for Bachelor's, 2 for Master's, 3 for PhD).\n",
    "    - salary: Continuous salary value (target variable)."
   ]
  },
  {
   "cell_type": "code",
   "execution_count": null,
   "id": "60d7478f",
   "metadata": {},
   "outputs": [],
   "source": []
  },
  {
   "cell_type": "markdown",
   "id": "51b8385a",
   "metadata": {},
   "source": [
    "### 2. Data Preprocessing:\n",
    "- Split the dataset into features (experience, education_level) and target (salary).\n",
    "- Perform an 80/20 split to create training and test datasets."
   ]
  },
  {
   "cell_type": "code",
   "execution_count": null,
   "id": "c3574e14",
   "metadata": {},
   "outputs": [],
   "source": []
  },
  {
   "cell_type": "markdown",
   "id": "27965c93",
   "metadata": {},
   "source": [
    "### 3. Train the Linear Regression Model:\n",
    "Train a Linear Regression model on the training data."
   ]
  },
  {
   "cell_type": "code",
   "execution_count": null,
   "id": "1a006259",
   "metadata": {},
   "outputs": [],
   "source": []
  },
  {
   "cell_type": "markdown",
   "id": "edba3d66",
   "metadata": {},
   "source": [
    "### 4. Evaluate the Model:\n",
    "Evaluate the model on the test data using \n",
    "- Mean Squared Error (MSE) and \n",
    "- R-squared (R²) values."
   ]
  },
  {
   "cell_type": "code",
   "execution_count": null,
   "id": "3c7d7230",
   "metadata": {},
   "outputs": [],
   "source": []
  },
  {
   "cell_type": "markdown",
   "id": "63fa2d62",
   "metadata": {},
   "source": [
    "### 5. Make Predictions:\n",
    "- Use the trained model to predict the salary of a new employee.\n",
    "- Example: Predict the salary for an employee with 7 years of experience and a Master's degree (education level = 2)."
   ]
  },
  {
   "cell_type": "code",
   "execution_count": null,
   "id": "c39e01e7",
   "metadata": {},
   "outputs": [],
   "source": []
  },
  {
   "cell_type": "markdown",
   "id": "6bba5233",
   "metadata": {},
   "source": [
    "### 6. Visualizations (Optional):\n",
    "- Create scatter plots to visualize the relationship between experience, education, and salary.\n",
    "- Plot the model's predictions against the actual salary data.\n"
   ]
  },
  {
   "cell_type": "code",
   "execution_count": null,
   "id": "e4e4ca0d",
   "metadata": {},
   "outputs": [],
   "source": []
  },
  {
   "cell_type": "code",
   "execution_count": null,
   "id": "f3aa07ce",
   "metadata": {},
   "outputs": [],
   "source": []
  }
 ],
 "metadata": {
  "kernelspec": {
   "display_name": "Python 3 (ipykernel)",
   "language": "python",
   "name": "python3"
  },
  "language_info": {
   "codemirror_mode": {
    "name": "ipython",
    "version": 3
   },
   "file_extension": ".py",
   "mimetype": "text/x-python",
   "name": "python",
   "nbconvert_exporter": "python",
   "pygments_lexer": "ipython3",
   "version": "3.11.5"
  }
 },
 "nbformat": 4,
 "nbformat_minor": 5
}
